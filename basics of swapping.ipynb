{
 "cells": [
  {
   "cell_type": "code",
   "execution_count": 3,
   "id": "7e5604d0-55bc-459e-b706-41da34a1bf51",
   "metadata": {},
   "outputs": [
    {
     "name": "stdout",
     "output_type": "stream",
     "text": [
      "20.0 10.0\n"
     ]
    }
   ],
   "source": [
    "a=10\n",
    "b=20\n",
    "a=a*b\n",
    "b=a/b\n",
    "a=a/b\n",
    "print(a,b)"
   ]
  },
  {
   "cell_type": "code",
   "execution_count": 7,
   "id": "098b1fe4-5617-4491-9264-24bba8440c89",
   "metadata": {},
   "outputs": [
    {
     "name": "stdout",
     "output_type": "stream",
     "text": [
      "2 1\n"
     ]
    }
   ],
   "source": [
    "a=1\n",
    "b=2\n",
    "a=a^b\n",
    "b=a^b\n",
    "a=a^b\n",
    "print(a,b)"
   ]
  },
  {
   "cell_type": "code",
   "execution_count": 33,
   "id": "afb04704-0e76-47ff-86e9-ba9157b68f57",
   "metadata": {},
   "outputs": [
    {
     "name": "stdout",
     "output_type": "stream",
     "text": [
      "2\n",
      "1\n"
     ]
    }
   ],
   "source": [
    "a=1\n",
    "b=2\n",
    "t=a\n",
    "a=(a|b)&b\n",
    "print(a)\n",
    "b=(t|b)&t\n",
    "print(b)\n"
   ]
  },
  {
   "cell_type": "code",
   "execution_count": 47,
   "id": "a97abe34-1320-4655-b6d1-bfd5cd5f3e85",
   "metadata": {},
   "outputs": [
    {
     "name": "stdout",
     "output_type": "stream",
     "text": [
      "{'a': 2, 'b': 1}\n"
     ]
    }
   ],
   "source": [
    "d={'a':1,'b':2}\n",
    "d[\"a\"],d[\"b\"]=d[\"b\"],d[\"a\"]\n",
    "print(d)"
   ]
  },
  {
   "cell_type": "code",
   "execution_count": 110,
   "id": "6ce0d6ee-5618-4749-94ad-24991633b1fd",
   "metadata": {},
   "outputs": [
    {
     "name": "stdout",
     "output_type": "stream",
     "text": [
      "[0, 4, 16, 36, 64, 100]\n"
     ]
    }
   ],
   "source": [
    "print([i*i for i in range(11) if(i%2==0)])\n"
   ]
  },
  {
   "cell_type": "code",
   "execution_count": null,
   "id": "bc8c7532-dd3e-43e7-b3c6-795210aea498",
   "metadata": {},
   "outputs": [],
   "source": [
    "#nivens/harshd number\n",
    "\"\"\"n=156\n",
    "1.segregate\n",
    "2.add digits\n",
    "3.perfectly divisible\n",
    "\n",
    "\"\"\"\n",
    "num=int(input(\"Enter a number:\"))\n",
    "copy=num\n",
    "sum=0\n",
    "while num>0:\n",
    "    d=num%10\n",
    "    sum+=d\n",
    "    n//=10\n",
    "if copy%sum==0:\n",
    "    print('Nivens\")\n",
    "else:\n",
    "    print(\"not\")\n",
    "    \n"
   ]
  },
  {
   "cell_type": "code",
   "execution_count": null,
   "id": "9d83e6f9-1b35-411a-bded-9de7ed70eb18",
   "metadata": {},
   "outputs": [],
   "source": [
    "n=int(input(\"Enter the number:\"))\n",
    "copy=n \n",
    "sum=0 \n",
    "while n>0: \n",
    "    d=n%10 \n",
    "    fact=1 \n",
    "    for i in range(1,d+1): \n",
    "        fact*=i \n",
    "        sum+=fact \n",
    "        n//=10 #print(sum) \n",
    "        \n",
    "if copy==sum: \n",
    "    print(\"strong number\") \n",
    "else: \n",
    "    print(\"not a strong number\")"
   ]
  },
  {
   "cell_type": "code",
   "execution_count": 1,
   "id": "d1be43ac-d185-4541-8ed8-4cc9c8686000",
   "metadata": {},
   "outputs": [
    {
     "name": "stdin",
     "output_type": "stream",
     "text": [
      "Enter a number: 5\n"
     ]
    },
    {
     "name": "stdout",
     "output_type": "stream",
     "text": [
      "Nivens\n"
     ]
    }
   ],
   "source": [
    "#nivens/harshd number\n",
    "#when the numner is divisible by sum of its numbers  then it is nivens number\n",
    "\"\"\"n=156\n",
    "1.segregate\n",
    "2.add digits\n",
    "3.perfectly divisible\n",
    "\n",
    "\"\"\"\n",
    "num=int(input(\"Enter a number:\"))\n",
    "copy=num\n",
    "sum=0\n",
    "while num!=0:\n",
    "    d=num%10\n",
    "    sum+=d\n",
    "    num//=10\n",
    "if copy%sum==0:\n",
    "    print('Nivens')\n",
    "else:\n",
    "\n",
    "    print(\"not\")"
   ]
  },
  {
   "cell_type": "code",
   "execution_count": 3,
   "id": "8d238da6-45ab-438b-81ce-80c6d00956e9",
   "metadata": {},
   "outputs": [
    {
     "name": "stdin",
     "output_type": "stream",
     "text": [
      "Enter the number: 5\n"
     ]
    },
    {
     "name": "stdout",
     "output_type": "stream",
     "text": [
      "not a strong number\n"
     ]
    }
   ],
   "source": [
    "n=int(input(\"Enter the number:\"))\n",
    "copy=n \n",
    "sum=0 \n",
    "while n>0: \n",
    "    d=n%10 \n",
    "    fact=1 \n",
    "    for i in range(1,d+1): \n",
    "        fact*=i \n",
    "        sum+=fact \n",
    "        n//=10 #print(sum) \n",
    "        \n",
    "if copy==sum: \n",
    "    print(\"strong number\") \n",
    "else: \n",
    "    print(\"not a strong number\")"
   ]
  },
  {
   "cell_type": "code",
   "execution_count": null,
   "id": "d919638a-e4e3-4405-bccf-fae7f34abe2e",
   "metadata": {},
   "outputs": [],
   "source": [
    "n=int(input(\"Enter the number:\"))\n",
    "copy=n \n",
    "sum=0 \n",
    "while n>0: \n",
    "    d=n%10 \n",
    "    fact=1 \n",
    "    for i in range(1,d+1): \n",
    "        fact*=i \n",
    "    sum+=fact \n",
    "    n//=10\n",
    "    #print(sum) \n",
    "        \n",
    "if copy==sum: \n",
    "    print(\"strong number\") \n",
    "else: \n",
    "    print(\"not a strong number\")"
   ]
  },
  {
   "cell_type": "code",
   "execution_count": null,
   "id": "5c490193-96f8-49fa-aefd-45357f43f9a1",
   "metadata": {},
   "outputs": [],
   "source": []
  }
 ],
 "metadata": {
  "kernelspec": {
   "display_name": "Python 3 (ipykernel)",
   "language": "python",
   "name": "python3"
  },
  "language_info": {
   "codemirror_mode": {
    "name": "ipython",
    "version": 3
   },
   "file_extension": ".py",
   "mimetype": "text/x-python",
   "name": "python",
   "nbconvert_exporter": "python",
   "pygments_lexer": "ipython3",
   "version": "3.12.7"
  }
 },
 "nbformat": 4,
 "nbformat_minor": 5
}
