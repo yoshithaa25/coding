{
 "cells": [
  {
   "cell_type": "code",
   "execution_count": 3,
   "id": "1d7eea7f-050b-4882-a64c-186b4e8eac1e",
   "metadata": {},
   "outputs": [
    {
     "name": "stdout",
     "output_type": "stream",
     "text": [
      "Name is:vijju,rollno is:100\n",
      "Name is:lalli,rollno is:101\n"
     ]
    }
   ],
   "source": [
    "#basic constructor ussage  __init__\n",
    "#automatically runs a method where a nwe object is created\n",
    "#display-----data\n",
    "class student:\n",
    "    def __init__(self,name,num):\n",
    "        self.name=name\n",
    "        self.num=num\n",
    "    def display(self):\n",
    "        print(f\"Name is:{self.name},rollno is:{self.num}\")\n",
    "s1=student(\"vijju\",100)\n",
    "s2=student(\"lalli\",101)\n",
    "s1.display()\n",
    "s2.display()"
   ]
  },
  {
   "cell_type": "code",
   "execution_count": 19,
   "id": "13c4e2a3-8ab6-4fc4-8c98-6a619cd2051c",
   "metadata": {},
   "outputs": [
    {
     "name": "stdin",
     "output_type": "stream",
     "text": [
      "enter the value of lenght: 4\n",
      "enter the value of breadth: 5\n"
     ]
    },
    {
     "name": "stdout",
     "output_type": "stream",
     "text": [
      "Area: 20\n",
      "perimeter: 18\n"
     ]
    }
   ],
   "source": [
    "#taking input via manual\n",
    "\"\"\" code for calculating the area  & perimeter of rectangle by taking user defined input as an object and class\n",
    "as rectangle ,return the values to display .\"\"\"\n",
    "class rect:\n",
    "    def __init__(self,l,b):\n",
    "        self.l=l\n",
    "        self.b=b\n",
    "    def area(self):\n",
    "        return l*b\n",
    "    def perimeter(self):\n",
    "        return 2*(l+b)\n",
    "l=int(input(\"enter the value of lenght:\"))\n",
    "b=int(input(\"enter the value of breadth:\"))\n",
    "r=rect(l,b)\n",
    "print(\"Area:\",r.area())\n",
    "print(\"perimeter:\",r.perimeter())"
   ]
  },
  {
   "cell_type": "code",
   "execution_count": 45,
   "id": "a8dd0061-7be8-4c8b-9d24-849621b7df6b",
   "metadata": {},
   "outputs": [
    {
     "name": "stdout",
     "output_type": "stream",
     "text": [
      "var: 100\n",
      "var: 1100\n"
     ]
    }
   ],
   "source": [
    "#calling a method from another method in a single class\n",
    "class abc:\n",
    "    def __init__(self,var):\n",
    "        self.var=var\n",
    "    def display(self):\n",
    "        print(\"var:\",self.var)\n",
    "    def call(self):\n",
    "        self.var+=1000\n",
    "        self.display()#used display method in call \n",
    "obj=abc(100)\n",
    "obj.display()\n",
    "obj.call()\n"
   ]
  },
  {
   "cell_type": "code",
   "execution_count": 71,
   "id": "fddeef30-6a8a-40b9-beae-fcbb7e76bee1",
   "metadata": {},
   "outputs": [
    {
     "name": "stdout",
     "output_type": "stream",
     "text": [
      "var: 10\n",
      "var: 100\n"
     ]
    }
   ],
   "source": [
    "#code for a class methof to call a function ,which is defined in global namespace\n",
    "def globe(x):\n",
    "    return x*10\n",
    "class abc:\n",
    "    def __init__(self,var):\n",
    "        self.var=var\n",
    "    def display(self):\n",
    "        print(\"var:\",self.var)\n",
    "    def modify(self):\n",
    "        self.var=globe(self.var)\n",
    "obj=abc(10)\n",
    "obj.display()\n",
    "obj.modify()\n",
    "obj.display()"
   ]
  },
  {
   "cell_type": "markdown",
   "id": "629c75a0-106a-4a05-b7be-c1a6c268f16f",
   "metadata": {},
   "source": [
    "#### \"\"\"program that uses class as student to store the name and marks of student\n",
    "use a list to store the marls of three subjects\n",
    "constarints....\n",
    "1. take class as student\n",
    "2.create a constuctor for student name\n",
    "3.create a funtion for marks to be entered manually with in their class function and add the marks to list\n",
    "4.display then student name and the marks he/she got\n",
    "5.pass the objects attributes of student names\n",
    "\"\"\"\n",
    "class stu:\n",
    "    def __init__(self,name):\n",
    "        self.name=name\n",
    "        self.marks=[]\n",
    "    def entermarks(self):\n",
    "        for i in range(3):\n",
    "            m=int(input(\"enter marks of %s in subject  %d :\"%(self.name,i+1)))\n",
    "            self.marks.append(m)\n",
    "    def display(self):\n",
    "        print(self.name,\"got\",self.marks)\n",
    "name=input(\"enter your name:\")\n",
    "s1=stu(name)\n",
    "s1.entermarks()\n",
    "s1.display()\n",
    "\n",
    "    "
   ]
  },
  {
   "cell_type": "code",
   "execution_count": null,
   "id": "0e9cb924-9058-4143-a71d-473e2a96c9cf",
   "metadata": {},
   "outputs": [],
   "source": [
    "class stu: \n",
    "    def init(self,name):\n",
    "        self.name=name \n",
    "        self.marks=[]\n",
    "    def entermarks(self):\n",
    "        for i in range(3):\n",
    "            m=int(input(\"enter marks of %s in subject %d :\"%(self.name,i+1)))\n",
    "            self.marks.append(m)\n",
    "    def display(self):\n",
    "        print(self.name,\"got\",self.marks)\n",
    "name=input(\"enter your name:\")\n",
    "s1=stu(name)\n",
    "s1.entermarks()\n",
    "s1.display()"
   ]
  }
 ],
 "metadata": {
  "kernelspec": {
   "display_name": "Python 3 (ipykernel)",
   "language": "python",
   "name": "python3"
  },
  "language_info": {
   "codemirror_mode": {
    "name": "ipython",
    "version": 3
   },
   "file_extension": ".py",
   "mimetype": "text/x-python",
   "name": "python",
   "nbconvert_exporter": "python",
   "pygments_lexer": "ipython3",
   "version": "3.12.7"
  }
 },
 "nbformat": 4,
 "nbformat_minor": 5
}
