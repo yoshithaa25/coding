{
 "cells": [
  {
   "cell_type": "code",
   "execution_count": 135,
   "id": "0e69a9e1-7e61-4455-8fcf-4a661de7494d",
   "metadata": {},
   "outputs": [
    {
     "name": "stdout",
     "output_type": "stream",
     "text": [
      "hello,students!!\n"
     ]
    }
   ],
   "source": [
    "#functions\n",
    "#1.. arg pass-return\n",
    "#2.arg pass -no return\n",
    "#3. no args-return \n",
    "#4.no args-no return \n",
    "\n",
    "def hi(name):\n",
    "    return f\"hello,{name}!!\"\n",
    "print(hi(\"students\"))\n",
    "\n"
   ]
  },
  {
   "cell_type": "code",
   "execution_count": 137,
   "id": "02bb397d-4073-4403-a4dc-e84f79121299",
   "metadata": {},
   "outputs": [
    {
     "name": "stdout",
     "output_type": "stream",
     "text": [
      "5\n",
      "40\n"
     ]
    }
   ],
   "source": [
    "#function with default parameters\n",
    "def sample(x,y=1): #here y=1 is initialized and it does  chanege when we provide two values in function call\n",
    "    return x*y\n",
    "print(sample(5))\n",
    "print(sample(5,8))"
   ]
  },
  {
   "cell_type": "code",
   "execution_count": 139,
   "id": "5e698b00-708a-4a36-ad70-e76ab5fd10c7",
   "metadata": {},
   "outputs": [
    {
     "name": "stdout",
     "output_type": "stream",
     "text": [
      "55\n",
      "595\n"
     ]
    }
   ],
   "source": [
    "#functions with keyword arguments it only used for single datatype\n",
    "def result(*args):\n",
    "    return sum(args)\n",
    "\n",
    "print(result(1,2,3,4,5,6,7,8,9,10))\n",
    "print(result(11,22,33,44,55,66,77,88,99,100))\n",
    "      "
   ]
  },
  {
   "cell_type": "code",
   "execution_count": 141,
   "id": "55ed89ce-ab70-48b6-9519-43fcce9e4cd9",
   "metadata": {},
   "outputs": [
    {
     "name": "stdout",
     "output_type": "stream",
     "text": [
      "name:vijaya\n",
      "age:20\n",
      "city:vijayawada\n"
     ]
    }
   ],
   "source": [
    "#function with keyword arguments using ** it uses different datatypes\n",
    "def info(**kwargs):\n",
    "    for key,value in kwargs.items():\n",
    "        print(f\"{key}:{value}\")\n",
    "info(name=\"vijaya\",age=20,city=\"vijayawada\")"
   ]
  },
  {
   "cell_type": "code",
   "execution_count": 143,
   "id": "87fad15a-6a9f-45d1-9c8d-80f4fe8f5fe3",
   "metadata": {},
   "outputs": [
    {
     "name": "stdout",
     "output_type": "stream",
     "text": [
      "810\n",
      "106\n"
     ]
    }
   ],
   "source": [
    "#lamda function which is used to represent in a single expresiion\n",
    "sq=lambda x:x*x*10\n",
    "print(sq(9))\n",
    "add=lambda x,y:x+y\n",
    "print(add(48,58))\n"
   ]
  },
  {
   "cell_type": "code",
   "execution_count": 145,
   "id": "7b955873-f4dd-4831-8be7-4376ec05baf5",
   "metadata": {},
   "outputs": [
    {
     "name": "stdout",
     "output_type": "stream",
     "text": [
      "Min: 1, Max:5,Average:3.0\n"
     ]
    }
   ],
   "source": [
    "#write a program to return a  n number of multiple values where passing a lsit of 1 to 5 elements and return the min max and avg in a single function .\n",
    "def num(n):\n",
    "    return min(n),max(n),sum(n)/len(n)\n",
    "min_val,max_val,avg\n",
    "num([1,2,3,5,6,8,7])\n",
    "print(f\"Min: {min_val}, Max:{max_val},Average:{avg}\")"
   ]
  },
  {
   "cell_type": "code",
   "execution_count": 147,
   "id": "98d6610f-b638-4922-a539-ed9dc45ee904",
   "metadata": {},
   "outputs": [
    {
     "data": {
      "text/plain": [
       "'\\n1.direct recursion\\n2.indirect recursion\\n3.tail recursion\\n4.nontail/head recursion\\n5.tree recursion\\n6,linear recursion\\n7.binary recursion\\n8.multiple recursion\\n9.nested recursion\\n10.mutual recursion\\n11.divide and conquer recursion\\n12.absolute/static recursion\\n'"
      ]
     },
     "execution_count": 147,
     "metadata": {},
     "output_type": "execute_result"
    }
   ],
   "source": [
    "#types of recursions\n",
    "\"\"\"\n",
    "1.direct recursion\n",
    "2.indirect recursion\n",
    "3.tail recursion\n",
    "4.nontail/head recursion\n",
    "5.tree recursion\n",
    "6,linear recursion\n",
    "7.binary recursion\n",
    "8.multiple recursion\n",
    "9.nested recursion\n",
    "10.mutual recursion\n",
    "11.divide and conquer recursion\n",
    "12.absolute/static recursion\n",
    "\"\"\""
   ]
  },
  {
   "cell_type": "code",
   "execution_count": 149,
   "id": "7dd7f453-11f0-4ff5-9d5d-41ef06b9f82a",
   "metadata": {},
   "outputs": [
    {
     "name": "stdout",
     "output_type": "stream",
     "text": [
      "120\n"
     ]
    }
   ],
   "source": [
    "#1.. direct,nontail,head recursion factorial  \n",
    "def fact(n):\n",
    "    if n==0 or n==1:\n",
    "        return 1\n",
    "    return n*fact(n-1)\n",
    "print(fact(5))\n"
   ]
  },
  {
   "cell_type": "code",
   "execution_count": 151,
   "id": "058aa12d-4aa8-4c90-9377-1c85acd3f083",
   "metadata": {},
   "outputs": [
    {
     "name": "stdout",
     "output_type": "stream",
     "text": [
      "True\n",
      "True\n"
     ]
    }
   ],
   "source": [
    "#2..indirect recursion of even and odd\n",
    "def even(n):\n",
    "    if n==0:\n",
    "        return True\n",
    "    return odd(n-1)  \n",
    "def odd(n):\n",
    "    if n==0:\n",
    "        return False\n",
    "    return even(n-1)\n",
    "print(even(6))\n",
    "print(odd(9))"
   ]
  },
  {
   "cell_type": "code",
   "execution_count": 153,
   "id": "a68e92f3-1791-490d-a080-a1c597134c52",
   "metadata": {},
   "outputs": [
    {
     "name": "stdout",
     "output_type": "stream",
     "text": [
      "120\n"
     ]
    }
   ],
   "source": [
    "#3..tail recursion in factorial\n",
    "def fact(n,tail=1):\n",
    "    if n==0 or n==1:\n",
    "        return tail\n",
    "    return fact(n-1,n*tail)\n",
    "print(fact(5))"
   ]
  },
  {
   "cell_type": "code",
   "execution_count": 157,
   "id": "6139eceb-c736-4cee-8395-2130dca7715d",
   "metadata": {},
   "outputs": [
    {
     "name": "stdout",
     "output_type": "stream",
     "text": [
      "55\n"
     ]
    }
   ],
   "source": [
    "#linear recursion  sum of numbers from 1 to 10\n",
    "def total(n):\n",
    "    if n<=0:\n",
    "        return 0\n",
    "    return n+total(n-1)\n",
    "print(total(10)) "
   ]
  },
  {
   "cell_type": "code",
   "execution_count": 173,
   "id": "41838e9a-b36a-4087-bf8a-3d0ab8999d6a",
   "metadata": {},
   "outputs": [
    {
     "name": "stdout",
     "output_type": "stream",
     "text": [
      "34560\n",
      "12\n",
      "24\n",
      "6\n"
     ]
    }
   ],
   "source": [
    "#nested recursion...........\n",
    "#recursion within recursion is known as nested recursion\n",
    "\n",
    "#super factorial\n",
    "def sfact(n):\n",
    "    if n<=0:\n",
    "        return 1\n",
    "    return fact(n)*sfact(n-1)\n",
    "print(sfact(5))\n",
    "print(sfact(3))\n",
    "def sfact(n):\n",
    "    if n<=0:\n",
    "        return 1\n",
    "    return n*fact(n-1)\n",
    "print(fact(4))\n",
    "print(fact(3))"
   ]
  },
  {
   "cell_type": "code",
   "execution_count": 177,
   "id": "506284a7-f577-4f0f-a292-ebb9d0d48d37",
   "metadata": {},
   "outputs": [
    {
     "name": "stdout",
     "output_type": "stream",
     "text": [
      "27\n",
      "65536\n"
     ]
    }
   ],
   "source": [
    "#power tower (2,3)=2^(2^2)=(4)^2=16  here first 2 is base and exponent is 3\n",
    "def pt(a,n):\n",
    "    if n==1:\n",
    "        return a\n",
    "    return a**pt(a,n-1)\n",
    "\n",
    "print(pt(3,2))\n",
    "print(pt(2,4))\n",
    "\n",
    "\n",
    "\n"
   ]
  },
  {
   "cell_type": "code",
   "execution_count": null,
   "id": "f9e4624f-c36d-453c-a2ff-35bc33291d1c",
   "metadata": {},
   "outputs": [],
   "source": []
  }
 ],
 "metadata": {
  "kernelspec": {
   "display_name": "Python 3 (ipykernel)",
   "language": "python",
   "name": "python3"
  },
  "language_info": {
   "codemirror_mode": {
    "name": "ipython",
    "version": 3
   },
   "file_extension": ".py",
   "mimetype": "text/x-python",
   "name": "python",
   "nbconvert_exporter": "python",
   "pygments_lexer": "ipython3",
   "version": "3.12.7"
  }
 },
 "nbformat": 4,
 "nbformat_minor": 5
}
