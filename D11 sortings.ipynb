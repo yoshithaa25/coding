{
 "cells": [
  {
   "cell_type": "code",
   "execution_count": null,
   "id": "287a0e62-7b68-429f-a5c7-b35a481d2970",
   "metadata": {},
   "outputs": [],
   "source": [
    "#SORTINGS\n",
    ".selection\n",
    ".insertion\n",
    ".bubble\n",
    ".quick\n",
    ".counting\n",
    ".radix\n",
    ".heap"
   ]
  },
  {
   "cell_type": "code",
   "execution_count": null,
   "id": "33e29a21-83cf-4342-9f9d-4e90c12f3818",
   "metadata": {},
   "outputs": [],
   "source": [
    "#SELECTION SORT\n",
    "#algorithm\n",
    "1.start from the first element in the list/array\n",
    "2.arr[0]=min\n",
    "3.compare vth all the remaining elements to find\n",
    "   the real lowest element\n",
    "4.perform swapping with current position\n",
    "5.repeat the same vth adding positional values for\n",
    "  each,min check\n",
    "\n",
    "#PSEUDO CODE\n",
    "for -> 0 to n-1:\n",
    "      min i\n",
    "      for j -> i+1 to n:\n",
    "          if arr[j]< arr[min]:\n",
    "             swap\n",
    "min=i+1          "
   ]
  },
  {
   "cell_type": "code",
   "execution_count": 7,
   "id": "3a3e75ba-5510-423c-b84a-25cb88469265",
   "metadata": {},
   "outputs": [
    {
     "name": "stdin",
     "output_type": "stream",
     "text": [
      "enter the no:of elements: 4\n"
     ]
    },
    {
     "name": "stdout",
     "output_type": "stream",
     "text": [
      "enter 4 elements\n"
     ]
    },
    {
     "name": "stdin",
     "output_type": "stream",
     "text": [
      " 2\n",
      " 8\n",
      " 4\n",
      " 6\n"
     ]
    },
    {
     "name": "stdout",
     "output_type": "stream",
     "text": [
      "sorted array [2, 4, 6, 8]\n"
     ]
    }
   ],
   "source": [
    "#CODE\n",
    "def selection_sort(arr):\n",
    "    n=len(arr)\n",
    "    for i in range(n):\n",
    "        min_index=i\n",
    "        for j in range(i+1,n):\n",
    "            if arr[j]<arr[min_index]:\n",
    "                min_index=j\n",
    "        arr[i],arr[min_index]=arr[min_index],arr[i]\n",
    "    return arr            \n",
    "size=int(input(\"enter the no:of elements:\"))\n",
    "arr=[]\n",
    "print(\"enter\",size,\"elements\")\n",
    "for _ in range(size):\n",
    "    num=int(input())\n",
    "    arr.append(num)\n",
    "result=selection_sort(arr)\n",
    "print(\"sorted array\",result)"
   ]
  },
  {
   "cell_type": "code",
   "execution_count": null,
   "id": "18f88a6a-6f6f-4754-a4f2-3e31a66349f9",
   "metadata": {},
   "outputs": [],
   "source": [
    "#INSERTION SORT\n",
    "#ALGORITHM\n",
    "1.start from the second element (i=1)\n",
    "2.previous index valued element check\n",
    "3.shift larger element one position to the right\n",
    "4.insert the current element in the correct position\n",
    "5.repeat until list sorted \n",
    "\n",
    "#PSEUDO CODE\n",
    "for i->1 to n-1:\n",
    "   key=arr[i]\n",
    "   j=i-1\n",
    "   while j>=0 and arr[j]>key\n",
    "      arr[j+1]=arr[j]\n",
    "      j-=1\n",
    "   arr[j+1]=key\n",
    "\n"
   ]
  },
  {
   "cell_type": "code",
   "execution_count": 13,
   "id": "84a662dc-268e-49dc-9ac4-a16b71cfb1ad",
   "metadata": {},
   "outputs": [
    {
     "name": "stdin",
     "output_type": "stream",
     "text": [
      "enter the no:of elements: 4\n"
     ]
    },
    {
     "name": "stdout",
     "output_type": "stream",
     "text": [
      "enter 4 elements\n"
     ]
    },
    {
     "name": "stdin",
     "output_type": "stream",
     "text": [
      " 2\n",
      " 8\n",
      " 1\n",
      " 6\n"
     ]
    },
    {
     "name": "stdout",
     "output_type": "stream",
     "text": [
      "sorted array [1, 2, 6, 8]\n"
     ]
    }
   ],
   "source": [
    "#CODE\n",
    "def insertion_sort(arr):\n",
    "    for i in range(1,len(arr)):\n",
    "        key=arr[i]\n",
    "        j=i-1\n",
    "        while j>=0 and arr[j]>key:\n",
    "            arr[j+1]=arr[j]\n",
    "            j-=1\n",
    "        arr[j+1]=key\n",
    "    return arr\n",
    "size=int(input(\"enter the no:of elements:\"))\n",
    "arr=[]\n",
    "print(\"enter\",size,\"elements\")\n",
    "for _ in range(size):\n",
    "    num=int(input())\n",
    "    arr.append(num)\n",
    "result=insertion_sort(arr)\n",
    "print(\"sorted array\",result)"
   ]
  },
  {
   "cell_type": "code",
   "execution_count": 1,
   "id": "c1b2db2e-bbda-404b-beb4-f8cfc4aea92c",
   "metadata": {},
   "outputs": [
    {
     "name": "stdin",
     "output_type": "stream",
     "text": [
      "enter the no:of elements: 4\n"
     ]
    },
    {
     "name": "stdout",
     "output_type": "stream",
     "text": [
      "enter 4 elements\n"
     ]
    },
    {
     "name": "stdin",
     "output_type": "stream",
     "text": [
      " apple\n",
      " cherry\n",
      " banana\n",
      " orange\n"
     ]
    },
    {
     "name": "stdout",
     "output_type": "stream",
     "text": [
      "sorted array ['apple', 'banana', 'cherry', 'orange']\n"
     ]
    }
   ],
   "source": [
    "def insertion_sort(arr):\n",
    "    for i in range(1,len(arr)):\n",
    "        key=arr[i]\n",
    "        j=i-1\n",
    "        while j>=0 and arr[j]>key:\n",
    "            arr[j+1]=arr[j]\n",
    "            j-=1\n",
    "        arr[j+1]=key\n",
    "    return arr\n",
    "size=int(input(\"enter the no:of elements:\"))\n",
    "arr=[]\n",
    "print(\"enter\",size,\"elements\")\n",
    "for _ in range(size):\n",
    "    num=(input())\n",
    "    arr.append(num)\n",
    "result=insertion_sort(arr)\n",
    "print(\"sorted array\",result)"
   ]
  },
  {
   "cell_type": "code",
   "execution_count": 9,
   "id": "8ce261b1-b759-4a6c-9879-1a900bd976cd",
   "metadata": {},
   "outputs": [
    {
     "name": "stdin",
     "output_type": "stream",
     "text": [
      "enter the no:of elements: 5\n"
     ]
    },
    {
     "name": "stdout",
     "output_type": "stream",
     "text": [
      "enter 5 elements\n"
     ]
    },
    {
     "name": "stdin",
     "output_type": "stream",
     "text": [
      " sun\n",
      " elephant\n",
      " cat\n",
      " moon\n",
      " lunch\n"
     ]
    },
    {
     "name": "stdout",
     "output_type": "stream",
     "text": [
      "sorted array ['sun', 'cat', 'moon', 'lunch', 'elephant']\n"
     ]
    }
   ],
   "source": [
    "'''perform insertion sort on strings based on length of words'''\n",
    "def insertion_sort(arr):\n",
    "    for i in range(1,len(arr)):\n",
    "        key=arr[i]\n",
    "        j=i-1\n",
    "        while j>=0 and len(arr[j])>len(key):\n",
    "            arr[j+1]=arr[j]\n",
    "            j-=1\n",
    "        arr[j+1]=key\n",
    "    return arr\n",
    "size=int(input(\"enter the no:of elements:\"))\n",
    "arr=[]\n",
    "print(\"enter\",size,\"elements\")\n",
    "for _ in range(size):\n",
    "    num=(input())\n",
    "    arr.append(num)\n",
    "result=insertion_sort(arr)\n",
    "print(\"sorted array\",result)\n"
   ]
  },
  {
   "cell_type": "code",
   "execution_count": 15,
   "id": "2a8ad4de-9310-4c7f-a4eb-15fa4aea5f49",
   "metadata": {},
   "outputs": [
    {
     "name": "stdin",
     "output_type": "stream",
     "text": [
      "enter a string India\n"
     ]
    },
    {
     "name": "stdout",
     "output_type": "stream",
     "text": [
      "['I', 'n', 'd', 'i', 'a']\n",
      "['I', 'a', 'd', 'i', 'n']\n",
      "sorted characters: Iadin\n"
     ]
    }
   ],
   "source": [
    "def insertion_sort(arr):\n",
    "    for i in range(1,len(arr)):\n",
    "        key=arr[i]\n",
    "        j=i-1\n",
    "        while j>=0 and arr[j]>key:\n",
    "            arr[j+1]=arr[j]\n",
    "            j-=1\n",
    "        arr[j+1]=key\n",
    "    return arr\n",
    "text=input(\"enter a string\")\n",
    "ch=list(text)\n",
    "print(ch)\n",
    "sort_chars=insertion_sort(ch)\n",
    "print(sort_chars)\n",
    "print(\"sorted characters:\",''.join(ch))"
   ]
  },
  {
   "cell_type": "code",
   "execution_count": null,
   "id": "26789135-d036-4560-a669-5049aed743f2",
   "metadata": {},
   "outputs": [],
   "source": []
  }
 ],
 "metadata": {
  "kernelspec": {
   "display_name": "Python 3 (ipykernel)",
   "language": "python",
   "name": "python3"
  },
  "language_info": {
   "codemirror_mode": {
    "name": "ipython",
    "version": 3
   },
   "file_extension": ".py",
   "mimetype": "text/x-python",
   "name": "python",
   "nbconvert_exporter": "python",
   "pygments_lexer": "ipython3",
   "version": "3.12.7"
  }
 },
 "nbformat": 4,
 "nbformat_minor": 5
}
