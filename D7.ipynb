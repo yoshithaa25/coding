{
 "cells": [
  {
   "cell_type": "code",
   "execution_count": 1,
   "id": "3be4900a-b5d0-48a6-9c13-354feec18388",
   "metadata": {},
   "outputs": [
    {
     "name": "stdout",
     "output_type": "stream",
     "text": [
      "animal sound\n",
      "dog barks..!!\n",
      "puppy weeps..!!\n"
     ]
    }
   ],
   "source": [
    "#multi-level inheritance \n",
    "class pet:\n",
    "    def sound(self):\n",
    "        print(\"animal sound\")\n",
    "class dog(pet):\n",
    "    def bark(self):\n",
    "        print(\"dog barks..!!\")\n",
    "class puppy(dog):\n",
    "    def weep(self):\n",
    "        print(\"puppy weeps..!!\")\n",
    "puppy=puppy()\n",
    "puppy.sound()\n",
    "puppy.bark()\n",
    "puppy.weep()"
   ]
  },
  {
   "cell_type": "code",
   "execution_count": 3,
   "id": "d5996590-aeb0-45bd-bacf-6833a7ee8318",
   "metadata": {},
   "outputs": [
    {
     "name": "stdin",
     "output_type": "stream",
     "text": [
      "enter of x: 5\n",
      "enter of y: 6\n"
     ]
    },
    {
     "name": "stdout",
     "output_type": "stream",
     "text": [
      "add: 11\n",
      "sub: -1\n",
      "product: 30\n",
      "division: 0.8333333333333334\n"
     ]
    }
   ],
   "source": [
    "'''code for math operations using base class,with 1st and 2nd derived class respectively.\n",
    "create an object where derived will be executed and perform multiple operations'''\n",
    "class numbers:\n",
    "    def __init__(self,a,b):\n",
    "        self.a=a\n",
    "        self.b=b\n",
    "class basicops(numbers):\n",
    "    def add(self):\n",
    "        return self.a+self.b\n",
    "    def sub(self):\n",
    "        return self.a-self.b\n",
    "class advops(basicops):\n",
    "    def mul(self):\n",
    "        return self.a*self.b\n",
    "    def div(self):\n",
    "        return self.a/self.b\n",
    "x=int(input(\"enter of x:\"))\n",
    "y=int(input(\"enter of y:\"))\n",
    "calc=advops(x,y)\n",
    "print(\"add:\",calc.add())\n",
    "print(\"sub:\",calc.sub())\n",
    "print(\"product:\",calc.mul())\n",
    "print(\"division:\",calc.div())"
   ]
  },
  {
   "cell_type": "code",
   "execution_count": 9,
   "id": "d6c74276-46fe-4ae0-98f1-e2b13831743c",
   "metadata": {},
   "outputs": [
    {
     "name": "stdin",
     "output_type": "stream",
     "text": [
      "enter the student name Henry\n",
      "enter the number of subjects 3\n",
      "enter marks for subject1: 56\n",
      "enter marks for subject2: 78\n",
      "enter marks for subject3: 89\n"
     ]
    },
    {
     "name": "stdout",
     "output_type": "stream",
     "text": [
      "student name: Henry\n",
      "total marks: 223.0\n",
      "average: 74.33333333333333\n",
      "student grade: C\n"
     ]
    }
   ],
   "source": [
    "'''code for student grading system,where student base class has to be derived by marks and marks with grades\n",
    "in a mukti-level inheritance claculate the grade to be alloted to the student with marks A,B,C,D with >=90,>=75,\n",
    ">=60 or less than 60 respectively.\n",
    "student:Henry\n",
    "marks:[85,90,78,92]\n",
    "calculate and display marks,avg,grade of Henry'''\n",
    "class student:\n",
    "    def __init__(self,name):\n",
    "        self.name=name\n",
    "class marks(student):\n",
    "    def __init__(self,name,marks):\n",
    "        super().__init__(name)\n",
    "        self.marks=marks\n",
    "    def total_marks(self):\n",
    "        return sum(self.marks)\n",
    "class grade(marks):\n",
    "    def average(self):\n",
    "        return self.total_marks()/len(self.marks)\n",
    "    def cal_grade(self):\n",
    "        avg=self.average()\n",
    "        if avg>=90:\n",
    "            return 'A'\n",
    "        elif avg>=75:\n",
    "            return 'B'\n",
    "        elif avg>=60:\n",
    "            return 'C'\n",
    "        else:\n",
    "            return 'D'\n",
    "name=input(\"enter the student name\")\n",
    "subjects=int(input(\"enter the number of subjects\"))\n",
    "marks=[]\n",
    "for i in range(subjects):\n",
    "    mark=float(input(f\"enter marks for subject{i+1}:\"))\n",
    "    marks.append(mark)\n",
    "student=grade(name,marks)    \n",
    "'''student=grade(\"Henry\",[85,90,78,92])'''\n",
    "print(\"student name:\",student.name)\n",
    "print(\"total marks:\",student.total_marks())\n",
    "print(\"average:\",student.average())\n",
    "print(\"student grade:\",student.cal_grade())\n",
    "            \n",
    "        "
   ]
  },
  {
   "cell_type": "code",
   "execution_count": 3,
   "id": "e7dae081-788b-411b-b183-745aa5741422",
   "metadata": {},
   "outputs": [
    {
     "name": "stdout",
     "output_type": "stream",
     "text": [
      "Milo barks!!\n",
      "kitty meows!!\n"
     ]
    }
   ],
   "source": [
    "#hierarchial inheritance\n",
    "class pet:\n",
    "    def __init__(self,name):\n",
    "        self.name=name\n",
    "    def sound(self):\n",
    "        print(f\"{self.name} makes a sound\")\n",
    "class dog(pet):\n",
    "    def sound(self):\n",
    "        print(f\"{self.name} barks!!\")\n",
    "class cat(pet):\n",
    "    def sound(self):\n",
    "        print(f\"{self.name} meows!!\")\n",
    "d=dog(\"Milo\")\n",
    "c=cat(\"kitty\")\n",
    "d.sound()\n",
    "c.sound()"
   ]
  },
  {
   "cell_type": "code",
   "execution_count": 13,
   "id": "7df15ecf-8411-4705-a4d5-7d3202f27a2e",
   "metadata": {},
   "outputs": [
    {
     "name": "stdout",
     "output_type": "stream",
     "text": [
      "area of rectangle: 50\n",
      "area of circle: 153.93804002589985\n",
      "area of triangle: 4.5\n"
     ]
    }
   ],
   "source": [
    "'''Hierarchial geometry operations of diff shapes areas values of all circle,rectangle,triangle derived classes'''\n",
    "import math\n",
    "class shape:\n",
    "    def __init__(self,d1,d2=0):\n",
    "        self.d1=d1\n",
    "        self.d2=d2\n",
    "class rectangle(shape):\n",
    "    def area(self):\n",
    "        return self.d1*self.d2\n",
    "class circle(shape):\n",
    "    def area(self):\n",
    "        return math.pi*self.d1*self.d1\n",
    "class triangle(shape):\n",
    "    def area(self):\n",
    "        return 0.5*self.d1*self.d1\n",
    "rect=rectangle(10,5)\n",
    "cir=circle(7)\n",
    "tri=triangle(3,4)\n",
    "print(\"area of rectangle:\",rect.area())\n",
    "print(\"area of circle:\",cir.area())\n",
    "print(\"area of triangle:\",tri.area())\n",
    "        "
   ]
  },
  {
   "cell_type": "code",
   "execution_count": 19,
   "id": "92693d84-bfaa-4d20-a3fc-7a24b1089846",
   "metadata": {},
   "outputs": [
    {
     "name": "stdout",
     "output_type": "stream",
     "text": [
      "area of rect: 22\n",
      "area of circle: 113.1\n",
      "area of triangle: 12.0\n"
     ]
    }
   ],
   "source": [
    "#abstraction of the base class for evaluating the area of sq,rect,tri\n",
    "from abc import ABC,abstractmethod\n",
    "from math import pi\n",
    "class shape(ABC):\n",
    "    def __init__(self,name):\n",
    "        self.name=name\n",
    "    @abstractmethod \n",
    "    def area(self):\n",
    "        pass\n",
    "class rectangle(shape):\n",
    "    def __init__(self,l,b):\n",
    "        super().__init__(\"rectangle\")\n",
    "        self.l=l\n",
    "        self.b=b\n",
    "    def area(self):\n",
    "        return self.l*self.b\n",
    "class circle(shape):\n",
    "    def __init__(self,r):\n",
    "        super().__init__(\"circle\")\n",
    "        self.r=r\n",
    "    def area(self):\n",
    "        return pi*self.r*self.r\n",
    "class triangle(shape):\n",
    "    def __init__(self,b,h):\n",
    "        super().__init__(\"triangle\")\n",
    "        self.b=b\n",
    "        self.h=h\n",
    "    def area(self):\n",
    "        return 0.5*self.b*self.h\n",
    "r=rectangle(11,2)\n",
    "c=circle(6)\n",
    "t=triangle(4,6)\n",
    "print(\"area of rect:\",r.area())\n",
    "print(\"area of circle:\",round(c.area(),2))\n",
    "print(\"area of triangle:\",t.area())\n",
    "        \n",
    "        "
   ]
  },
  {
   "cell_type": "code",
   "execution_count": null,
   "id": "c645ce4d-574f-4e94-b23e-8d5de3767198",
   "metadata": {},
   "outputs": [],
   "source": []
  }
 ],
 "metadata": {
  "kernelspec": {
   "display_name": "Python 3 (ipykernel)",
   "language": "python",
   "name": "python3"
  },
  "language_info": {
   "codemirror_mode": {
    "name": "ipython",
    "version": 3
   },
   "file_extension": ".py",
   "mimetype": "text/x-python",
   "name": "python",
   "nbconvert_exporter": "python",
   "pygments_lexer": "ipython3",
   "version": "3.12.7"
  }
 },
 "nbformat": 4,
 "nbformat_minor": 5
}
