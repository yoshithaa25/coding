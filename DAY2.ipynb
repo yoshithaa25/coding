{
 "cells": [
  {
   "cell_type": "code",
   "execution_count": 1,
   "id": "6d55cf1f-592c-4435-ae9e-274f2ba69bed",
   "metadata": {},
   "outputs": [
    {
     "name": "stdout",
     "output_type": "stream",
     "text": [
      "[4, 16, 36, 64, 100, 144, 196, 256, 324, 400]\n"
     ]
    }
   ],
   "source": [
    "#LIST COMPREHENSIONS\n",
    "print([i**2 for i in range(1,21) if(i%2==0)])"
   ]
  },
  {
   "cell_type": "code",
   "execution_count": 3,
   "id": "b17f5c2c-99d1-469f-b366-590276a2da3e",
   "metadata": {},
   "outputs": [
    {
     "name": "stdout",
     "output_type": "stream",
     "text": [
      "[1, 9, 25, 49, 81, 121, 169, 225, 289, 361]\n"
     ]
    }
   ],
   "source": [
    "print([i**2 for i in range(1,21) if(i%2!=0)])"
   ]
  },
  {
   "cell_type": "code",
   "execution_count": 15,
   "id": "8871c761-2cd1-45c1-b1f7-506283464345",
   "metadata": {},
   "outputs": [
    {
     "name": "stdout",
     "output_type": "stream",
     "text": [
      "['APPLE', 'ORANGE', 'BLUEBERRY', 'STRAWBERRY']\n"
     ]
    }
   ],
   "source": [
    "#list comprehension in stringgs\n",
    "words=['apple','orange','blueberry','strawberry']\n",
    "upper=[word.upper() for word in words]\n",
    "print(upper)"
   ]
  },
  {
   "cell_type": "code",
   "execution_count": 17,
   "id": "b56db898-5ab2-40db-9b66-8dc3cd406139",
   "metadata": {},
   "outputs": [
    {
     "name": "stdout",
     "output_type": "stream",
     "text": [
      "[1, 2, 3, 4, 5, 6, 7, 8, 9]\n"
     ]
    }
   ],
   "source": [
    "#nested list comprehension on 2d matrix to flatten (means making as single list)\n",
    "matrix=[[1,2,3],[4,5,6],[7,8,9]]\n",
    "flat=[num for row in matrix for num in row]#first loop read everyrowand second loop reads every number in the row\n",
    "print(flat)\n"
   ]
  },
  {
   "cell_type": "code",
   "execution_count": 21,
   "id": "0d5a9e5f-c3bd-4b2e-8f4d-a8c374e1993a",
   "metadata": {},
   "outputs": [
    {
     "name": "stdout",
     "output_type": "stream",
     "text": [
      "['apple', 'orange', 'blueberry', 'strawberry']\n"
     ]
    }
   ],
   "source": [
    "#nested list comprehension on 2d matrix to flatten (means making as single list) using strings\n",
    "words=[['apple','orange'],['blueberry','strawberry']]\n",
    "flat=[word for row in words for word in row]\n",
    "print(flat)"
   ]
  },
  {
   "cell_type": "code",
   "execution_count": 33,
   "id": "4f8171c3-ecf2-45cc-a4ee-f437ab653cbd",
   "metadata": {},
   "outputs": [
    {
     "name": "stdout",
     "output_type": "stream",
     "text": [
      "[0, 0, 1, 2, 0, 0, 0]\n"
     ]
    }
   ],
   "source": [
    "#nested list using logical conditions,replace all negative nums with zeros using list comprehension\n",
    "#why syntax is not followed in list comprehension\n",
    "#no syntax is applied for delimeters\n",
    "nums=[-2,-1,1,2,-3,-4,-5]\n",
    "nonnegative=[x if x>=0 else 0 for x in nums]#check if num >0 else replace negtive num with the 0\n",
    "print(nonnegative)"
   ]
  },
  {
   "cell_type": "code",
   "execution_count": 43,
   "id": "bdda79ae-1d1d-484c-8bb1-dc996240b4a3",
   "metadata": {},
   "outputs": [
    {
     "name": "stdout",
     "output_type": "stream",
     "text": [
      "[5, 6, 9, 10]\n",
      "['a', 'o', 'b', 's']\n"
     ]
    }
   ],
   "source": [
    "#getting first character from string &length of the string\n",
    "words=['apple','orange','blueberry','strawberry']\n",
    "first_character=[word[0] for word in words]#get first letter fromstring\n",
    "print([len(word) for word in words])#get lenght of string in list\n",
    "print(first_character)\n"
   ]
  },
  {
   "cell_type": "code",
   "execution_count": 56,
   "id": "1f1679dc-a0fe-49da-b01f-e4d44d357b18",
   "metadata": {},
   "outputs": [
    {
     "name": "stdout",
     "output_type": "stream",
     "text": [
      "[1, 2, 3, 4]\n"
     ]
    }
   ],
   "source": [
    "#filtering none values ffrom list\n",
    "l=[1,None,2,None,3,None,4,None]\n",
    "print([x for x in l if x is not None])"
   ]
  },
  {
   "cell_type": "code",
   "execution_count": 67,
   "id": "bc354235-a7d0-490a-a620-f8ac154a24ba",
   "metadata": {},
   "outputs": [
    {
     "name": "stdout",
     "output_type": "stream",
     "text": [
      "[('vijay', 20), ('vijay', 30), ('ajay', 20), ('ajay', 30)]\n"
     ]
    }
   ],
   "source": [
    "#pairing twolists in tuples\n",
    "name=[\"vijay\",\"ajay\"]\n",
    "age=[20,30]\n",
    "print([(i,j) for i in name for j in age])"
   ]
  },
  {
   "cell_type": "code",
   "execution_count": 81,
   "id": "cb67efd7-ede6-4c56-8b0c-d6be4982df92",
   "metadata": {},
   "outputs": [
    {
     "name": "stdout",
     "output_type": "stream",
     "text": [
      "['e', 'o', 'u', 'e']\n"
     ]
    }
   ],
   "source": [
    "#given a string,create a list of all vowelsin the srting using it comprehension \n",
    "text=\"Hello students\"\n",
    "v=[char for char in text if char.lower()in 'aeiou']\n",
    "print(v)"
   ]
  },
  {
   "cell_type": "code",
   "execution_count": 87,
   "id": "9f7efe08-5bdb-46a6-a209-7f449b4c60b8",
   "metadata": {},
   "outputs": [
    {
     "name": "stdin",
     "output_type": "stream",
     "text": [
      "enter the size of matrix: 7\n"
     ]
    },
    {
     "name": "stdout",
     "output_type": "stream",
     "text": [
      "* * * * * * * \n",
      "* * * * * * * \n",
      "* * * * * * * \n",
      "* * * * * * * \n",
      "* * * * * * * \n",
      "* * * * * * * \n",
      "* * * * * * * \n"
     ]
    }
   ],
   "source": [
    "#PATTERNS\n",
    "size=int(input(\"enter the size of matrix:\"))\n",
    "for i in range(size):\n",
    "    for j in range(size):\n",
    "        print(\"*\",end=\" \")\n",
    "    print()"
   ]
  },
  {
   "cell_type": "code",
   "execution_count": 115,
   "id": "25f4987d-ae8a-4a8a-88a0-ae0448fddc3d",
   "metadata": {},
   "outputs": [
    {
     "name": "stdin",
     "output_type": "stream",
     "text": [
      "enter the size of matrix: 4\n"
     ]
    },
    {
     "name": "stdout",
     "output_type": "stream",
     "text": [
      "* * * * \n",
      "*     * \n",
      "*     * \n",
      "* * * * \n"
     ]
    }
   ],
   "source": [
    "#printing only edges\n",
    "size=int(input(\"enter the size of matrix:\"))\n",
    "for i in range(size):\n",
    "    for j in range(size):\n",
    "        if i==0 or j==0 or i==size-1 or j==size-1:\n",
    "            print(\"*\",end=\" \")\n",
    "        else:\n",
    "            print(\" \",end=\" \")\n",
    "    print()"
   ]
  },
  {
   "cell_type": "code",
   "execution_count": 129,
   "id": "12908cb2-9f41-4017-9d87-18194a6311e2",
   "metadata": {},
   "outputs": [
    {
     "name": "stdin",
     "output_type": "stream",
     "text": [
      "enter the size of matrix: 7\n"
     ]
    },
    {
     "name": "stdout",
     "output_type": "stream",
     "text": [
      "* * * * * * * \n",
      "* *       * * \n",
      "*   *   *   * \n",
      "*     *     * \n",
      "*   *   *   * \n",
      "* *       * * \n",
      "* * * * * * * \n"
     ]
    }
   ],
   "source": [
    "#diagnals\n",
    "size=int(input(\"enter the size of matrix:\"))\n",
    "for i in range(size):\n",
    "    for j in range(size):\n",
    "        if i==0 or j==0 or i==size-1 or j==size-1 or i==j or (i+j)==size-1:\n",
    "            print(\"*\",end=\" \")\n",
    "        else:\n",
    "            print(\" \",end=\" \")\n",
    "    print()"
   ]
  },
  {
   "cell_type": "code",
   "execution_count": 131,
   "id": "649577fe-0fa4-4560-b7db-d4ab4935763d",
   "metadata": {},
   "outputs": [
    {
     "name": "stdin",
     "output_type": "stream",
     "text": [
      "enter the size of matrix: 5\n"
     ]
    },
    {
     "name": "stdout",
     "output_type": "stream",
     "text": [
      "*       * \n",
      "* *   * * \n",
      "*   *   * \n",
      "* *   * * \n",
      "*       * \n"
     ]
    }
   ],
   "source": [
    "size=int(input(\"enter the size of matrix:\"))\n",
    "for i in range(size):\n",
    "    for j in range(size):\n",
    "        if  j==0 or  j==size-1 or i==j or (i+j)==size-1:\n",
    "            print(\"*\",end=\" \")\n",
    "        else:\n",
    "            print(\" \",end=\" \")\n",
    "    print()"
   ]
  },
  {
   "cell_type": "code",
   "execution_count": 133,
   "id": "c9c84f3a-9240-4c76-b3e2-13ad1dce6653",
   "metadata": {},
   "outputs": [
    {
     "name": "stdin",
     "output_type": "stream",
     "text": [
      "enter the size of matrix: 6\n"
     ]
    },
    {
     "name": "stdout",
     "output_type": "stream",
     "text": [
      "* * * * * * \n",
      "  *     *   \n",
      "    * *     \n",
      "    * *     \n",
      "  *     *   \n",
      "* * * * * * \n"
     ]
    }
   ],
   "source": [
    "size=int(input(\"enter the size of matrix:\"))\n",
    "for i in range(size):\n",
    "    for j in range(size):\n",
    "        if i==0  or i==size-1  or i==j or (i+j)==size-1:\n",
    "            print(\"*\",end=\" \")\n",
    "        else:\n",
    "            print(\" \",end=\" \")\n",
    "    print()"
   ]
  },
  {
   "cell_type": "code",
   "execution_count": 135,
   "id": "f7e1ce9a-6b58-418c-ad3e-ab56b8493025",
   "metadata": {},
   "outputs": [
    {
     "name": "stdin",
     "output_type": "stream",
     "text": [
      "enter the size of matrix: 5\n"
     ]
    },
    {
     "name": "stdout",
     "output_type": "stream",
     "text": [
      "*       * \n",
      "  *   *   \n",
      "    *     \n",
      "  *   *   \n",
      "*       * \n"
     ]
    }
   ],
   "source": [
    "size=int(input(\"enter the size of matrix:\"))\n",
    "for i in range(size):\n",
    "    for j in range(size):\n",
    "        if  i==j or (i+j)==size-1:\n",
    "            print(\"*\",end=\" \")\n",
    "        else:\n",
    "            print(\" \",end=\" \")\n",
    "    print()"
   ]
  },
  {
   "cell_type": "code",
   "execution_count": 137,
   "id": "0874ee79-9791-46e8-b4e4-0e06a3740f62",
   "metadata": {},
   "outputs": [
    {
     "name": "stdin",
     "output_type": "stream",
     "text": [
      "enter the size of matrix: 7\n"
     ]
    },
    {
     "name": "stdout",
     "output_type": "stream",
     "text": [
      "*             \n",
      "* *           \n",
      "*   *         \n",
      "*     *       \n",
      "*       *     \n",
      "*         *   \n",
      "* * * * * * * \n"
     ]
    }
   ],
   "source": [
    "size=int(input(\"enter the size of matrix:\"))\n",
    "for i in range(size):\n",
    "    for j in range(size):\n",
    "        if i==j or j==0 or i==size-1: \n",
    "            print(\"*\",end=\" \")\n",
    "        else:\n",
    "            print(\" \",end=\" \")\n",
    "    print()"
   ]
  },
  {
   "cell_type": "code",
   "execution_count": 153,
   "id": "fdca1d15-f648-4c7f-8354-d96a7f48c739",
   "metadata": {},
   "outputs": [
    {
     "name": "stdin",
     "output_type": "stream",
     "text": [
      "enter a number: 6\n"
     ]
    },
    {
     "name": "stdout",
     "output_type": "stream",
     "text": [
      "1 \n",
      "2 3 \n",
      "4 5 6 \n",
      "7 8 9 10 \n",
      "11 12 13 14 15 \n",
      "16 17 18 19 20 21 \n"
     ]
    }
   ],
   "source": [
    "rows=int(input(\"enter a number:\"))\n",
    "n=1\n",
    "for i in  range(1,rows+1):\n",
    "    for j in range(1,i+1):\n",
    "        print(n,end=\" \")\n",
    "        n+=1\n",
    "    print()"
   ]
  },
  {
   "cell_type": "code",
   "execution_count": 167,
   "id": "8a516690-d13d-49b4-bd87-92c7135bdca4",
   "metadata": {},
   "outputs": [
    {
     "name": "stdin",
     "output_type": "stream",
     "text": [
      "enter a number: 9\n"
     ]
    },
    {
     "name": "stdout",
     "output_type": "stream",
     "text": [
      "                * \n",
      "              * * * \n",
      "            * * * * * \n",
      "          * * * * * * * \n",
      "        * * * * * * * * * \n",
      "      * * * * * * * * * * * \n",
      "    * * * * * * * * * * * * * \n",
      "  * * * * * * * * * * * * * * * \n",
      "* * * * * * * * * * * * * * * * * \n"
     ]
    }
   ],
   "source": [
    "#equilateral triangle\n",
    "rows=int(input(\"enter a number:\"))\n",
    "for i in range(rows):\n",
    "    for j in range(rows-i-1):\n",
    "        print(\" \",end=\" \")\n",
    "    for k in range(2*i+1):\n",
    "        print(\"*\",end=' ')\n",
    "    print()\n"
   ]
  },
  {
   "cell_type": "code",
   "execution_count": 183,
   "id": "75cb8e2e-3c13-4d0a-b8d5-d6ba7b01d064",
   "metadata": {},
   "outputs": [
    {
     "name": "stdout",
     "output_type": "stream",
     "text": [
      "        1   \n",
      "      1   1   \n",
      "    1   2   1   \n",
      "  1   3   3   1   \n",
      "1   4   6   4   1   \n"
     ]
    }
   ],
   "source": [
    "#pascals triangle\n",
    "rows=5#int(input(\"enter a number:\"))\n",
    "for i in range(rows):\n",
    "    num=1\n",
    "    for j in range(rows-i-1):\n",
    "        print(\" \",end=\" \")\n",
    "    for k in range(i +1):\n",
    "        print(num,end='   ')\n",
    "        num=num*(i-k)//(k+1)\n",
    "    print()\n"
   ]
  },
  {
   "cell_type": "code",
   "execution_count": 198,
   "id": "be8c7f43-b53c-4ece-8198-fef0c3d3d8c1",
   "metadata": {},
   "outputs": [
    {
     "name": "stdout",
     "output_type": "stream",
     "text": [
      "        1   \n",
      "      1   1   \n",
      "    1   2   1   \n",
      "  1   3   3   1   \n",
      "1   4   6   4   1   \n"
     ]
    }
   ],
   "source": [
    "#pogram to print alphabets in lexicographical order(pyramid patternn)\n",
    "#A->Z\n"
   ]
  },
  {
   "cell_type": "code",
   "execution_count": 208,
   "id": "980db7e7-9f46-404d-b0fa-6f591416c0dc",
   "metadata": {},
   "outputs": [
    {
     "ename": "TypeError",
     "evalue": "'int' object does not support item assignment",
     "output_type": "error",
     "traceback": [
      "\u001b[1;31m---------------------------------------------------------------------------\u001b[0m",
      "\u001b[1;31mTypeError\u001b[0m                                 Traceback (most recent call last)",
      "Cell \u001b[1;32mIn[208], line 11\u001b[0m\n\u001b[0;32m      9\u001b[0m \u001b[38;5;28;01mwhile\u001b[39;00m top\u001b[38;5;241m<\u001b[39m\u001b[38;5;241m=\u001b[39mbottom \u001b[38;5;129;01mand\u001b[39;00m left\u001b[38;5;241m<\u001b[39m\u001b[38;5;241m=\u001b[39mright:\n\u001b[0;32m     10\u001b[0m     \u001b[38;5;28;01mfor\u001b[39;00m i \u001b[38;5;129;01min\u001b[39;00m \u001b[38;5;28mrange\u001b[39m(left,right\u001b[38;5;241m+\u001b[39m\u001b[38;5;241m1\u001b[39m):\n\u001b[1;32m---> 11\u001b[0m         matrix[top][i]\u001b[38;5;241m=\u001b[39mnum\n\u001b[0;32m     12\u001b[0m         num\u001b[38;5;241m+\u001b[39m\u001b[38;5;241m=\u001b[39m\u001b[38;5;241m1\u001b[39m\n\u001b[0;32m     13\u001b[0m     top \u001b[38;5;241m+\u001b[39m\u001b[38;5;241m=\u001b[39m\u001b[38;5;241m1\u001b[39m\n",
      "\u001b[1;31mTypeError\u001b[0m: 'int' object does not support item assignment"
     ]
    }
   ],
   "source": [
    "#spiral pattern clock wise\n",
    "n=4\n",
    "matrix= [[0] *n for _ in range(n)]\n",
    "num=1\n",
    "top= 0\n",
    "bottom= n-1\n",
    "left= 0\n",
    "right= n-1\n",
    "while top<=bottom and left <=right:\n",
    "    for i in range(left, right+1):\n",
    "        matrix[top][i]= num\n",
    "        num+=1\n",
    "    top +=1\n",
    "    for i in range(top, bottom+1):\n",
    "        matrix[i][right]= num\n",
    "        num+=1\n",
    "    right -=1\n",
    "    for i in range( right, left-1, -1):\n",
    "        matrix[bottom][i]= num\n",
    "        num+=1\n",
    "    bottom -=1\n",
    "    for i in range(bottom, top-1, -1):\n",
    "        matrix[i][left]= num\n",
    "        num+=1\n",
    "    left +=1\n",
    "for row in matrix:\n",
    "    for val in row:\n",
    "        print(f\"{val:2}\", end=' ')\n",
    "    print()"
   ]
  },
  {
   "cell_type": "code",
   "execution_count": null,
   "id": "c65a3f76-35d0-40d5-9a98-2cfca858edb4",
   "metadata": {},
   "outputs": [],
   "source": []
  }
 ],
 "metadata": {
  "kernelspec": {
   "display_name": "Python 3 (ipykernel)",
   "language": "python",
   "name": "python3"
  },
  "language_info": {
   "codemirror_mode": {
    "name": "ipython",
    "version": 3
   },
   "file_extension": ".py",
   "mimetype": "text/x-python",
   "name": "python",
   "nbconvert_exporter": "python",
   "pygments_lexer": "ipython3",
   "version": "3.12.7"
  }
 },
 "nbformat": 4,
 "nbformat_minor": 5
}
